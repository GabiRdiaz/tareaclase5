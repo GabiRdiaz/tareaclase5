{
 "cells": [
  {
   "cell_type": "markdown",
   "metadata": {},
   "source": [
    "Calculadora Simple: Crea un programa que solicite al usuario dos números y una operación (suma, resta, multiplicación o división). Luego, utilizando estructuras condicionales (if, elif, else), realiza la operación seleccionada e imprime el resultado."
   ]
  },
  {
   "cell_type": "code",
   "execution_count": 15,
   "metadata": {},
   "outputs": [
    {
     "name": "stdout",
     "output_type": "stream",
     "text": [
      "opcion incorrecta\n"
     ]
    }
   ],
   "source": [
    "operacion=int(input(\"¿Qué operación deseas realizar? (suma=1,resta=1,mult=3,dividir=4): \"))\n",
    "if operacion<=4:\n",
    "    num1=float(input(\"Introduce el primer número: \"))\n",
    "    num2=float(input(\"Introduce el segundo número: \"))\n",
    "\n",
    "    if operacion == \"1\":\n",
    "        res= num1 + num2\n",
    "        print(\"El resultado es: \",res)   \n",
    "    elif operacion == \"2\":\n",
    "        res= num1 - num2\n",
    "        print(\"El resultado es: \",res)      \n",
    "    elif operacion == \"3\":\n",
    "        res= num1 * num2\n",
    "        print(\"El resultado es: \",res)      \n",
    "    elif operacion == \"4\":\n",
    "        if num2 != 0:\n",
    "            res= num1 / num2\n",
    "            print(\"El resultado es: \",res)\n",
    "    else:\n",
    "            print(\"Error: No se puede dividir entre cero\")\n",
    "else:\n",
    "        print(\"opcion incorrecta\")\n",
    "        \n",
    "\n"
   ]
  },
  {
   "cell_type": "markdown",
   "metadata": {},
   "source": [
    "Escribe un programa que recorra una lista de números del 1 al 20. Utilizando un bucle for, determina cuántos de estos números son pares y cuántos son impares. Al final, imprime la cantidad de números pares e impares."
   ]
  },
  {
   "cell_type": "code",
   "execution_count": 23,
   "metadata": {},
   "outputs": [
    {
     "name": "stdout",
     "output_type": "stream",
     "text": [
      "Cantidad de números pares: 10\n",
      "Cantidad de números impares: 10\n",
      "[1, 2, 3, 4, 5, 6, 7, 8, 9, 10, 11, 12, 13, 14, 15, 16, 17, 18, 19, 20]\n"
     ]
    }
   ],
   "source": [
    "cantidad_pares = 0\n",
    "cantidad_impares = 0\n",
    "a=[]\n",
    "for num in range(1, 21):\n",
    "    a.append(num)\n",
    "    if num % 2 == 0:\n",
    "        cantidad_pares += 1\n",
    "    else:\n",
    "        cantidad_impares += 1\n",
    "print(\"Cantidad de números pares:\", cantidad_pares)\n",
    "print(\"Cantidad de números impares:\", cantidad_impares)\n",
    "print(a)"
   ]
  },
  {
   "cell_type": "markdown",
   "metadata": {},
   "source": [
    "Pide al usuario que ingrese una contraseña. Utiliza un bucle while para seguir solicitando la contraseña hasta que coincida con una contraseña predefinida (por ejemplo, \"python123\"). Muestra un mensaje de éxito cuando la contraseña es correcta."
   ]
  },
  {
   "cell_type": "code",
   "execution_count": 1,
   "metadata": {},
   "outputs": [
    {
     "name": "stdout",
     "output_type": "stream",
     "text": [
      "Contraseña Incorrecta\n",
      "Contraseña Incorrecta\n",
      "Contraseña Incorrecta\n",
      "Contraseña Incorrecta\n",
      "Contraseña correcta\n"
     ]
    }
   ],
   "source": [
    "contraseña = \"python123\"\n",
    "while True:\n",
    "    ingreso = input(\"Ingrese su contraseña: \")\n",
    "    if ingreso == contraseña:\n",
    "        print(\"Contraseña correcta\")\n",
    "        break\n",
    "    else:\n",
    "        print(\"Contraseña Incorrecta\")"
   ]
  },
  {
   "cell_type": "markdown",
   "metadata": {},
   "source": [
    "Crea un programa que solicite al usuario un número entero. Utilizando un bucle for, verifica si el número es primo (es decir, solo divisible por 1 y por sí mismo). Imprime un mensaje indicando si el número es primo o no."
   ]
  },
  {
   "cell_type": "code",
   "execution_count": 9,
   "metadata": {},
   "outputs": [
    {
     "name": "stdout",
     "output_type": "stream",
     "text": [
      "77 es un número primo.\n"
     ]
    }
   ],
   "source": [
    "num = int(input(\"Introduce un número entero: \"))\n",
    "\n",
    "primo = True\n",
    "if num > 1:\n",
    "    for i in range(2, num):\n",
    "        if num % i == 0:\n",
    "            es_primo = False\n",
    "            break\n",
    "\n",
    "# Imprimir el resultado\n",
    "if primo:\n",
    "    print(num, \"es un número primo.\")\n",
    "else:\n",
    "    print(num, \"no es un número primo.\")"
   ]
  }
 ],
 "metadata": {
  "kernelspec": {
   "display_name": "Python 3",
   "language": "python",
   "name": "python3"
  },
  "language_info": {
   "codemirror_mode": {
    "name": "ipython",
    "version": 3
   },
   "file_extension": ".py",
   "mimetype": "text/x-python",
   "name": "python",
   "nbconvert_exporter": "python",
   "pygments_lexer": "ipython3",
   "version": "3.11.5"
  }
 },
 "nbformat": 4,
 "nbformat_minor": 2
}
